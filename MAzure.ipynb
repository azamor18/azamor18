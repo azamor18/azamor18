{
  "nbformat": 4,
  "nbformat_minor": 0,
  "metadata": {
    "colab": {
      "provenance": [],
      "authorship_tag": "ABX9TyOcUDSmwxmFGFvERPOdIY9E",
      "include_colab_link": true
    },
    "kernelspec": {
      "name": "python3",
      "display_name": "Python 3"
    },
    "language_info": {
      "name": "python"
    }
  },
  "cells": [
    {
      "cell_type": "markdown",
      "metadata": {
        "id": "view-in-github",
        "colab_type": "text"
      },
      "source": [
        "<a href=\"https://colab.research.google.com/github/azamor18/azamor18/blob/main/MAzure.ipynb\" target=\"_parent\"><img src=\"https://colab.research.google.com/assets/colab-badge.svg\" alt=\"Open In Colab\"/></a>"
      ]
    },
    {
      "cell_type": "markdown",
      "source": [
        "#Tecnologico de Monterrey\n",
        "#Computo en las nubes\n",
        "#Antonio Zamora Sánchez\n",
        "#A01794117"
      ],
      "metadata": {
        "id": "ChRLWtGr85F0"
      }
    },
    {
      "cell_type": "code",
      "source": [
        "import json, os, requests"
      ],
      "metadata": {
        "id": "DnUHFPNW9MpI"
      },
      "execution_count": 1,
      "outputs": []
    },
    {
      "cell_type": "code",
      "source": [
        "#\n",
        "subscription_key = \"b7ca2d5497e5457da01266a79604b710\"\n",
        "\n",
        "#\n",
        "face_api_url = \"https://facerecognitionmna18.cognitiveservices.azure.com\" + \"/face/v1.0/detect\"\n",
        "\n",
        "#\n",
        "image_url = \"https://github.com/ecendejas/imgMNA/blob/main/faces.jpg?raw=true\"\n",
        "\n",
        "#\n",
        "headers = { \"OCP-Apim-Subscription-Key\": subscription_key}\n",
        "\n",
        "#\n",
        "params = {\n",
        "    \"returnFaceId\" : \"false\",\n",
        "    \"returnFaceLandmarks\": \"false\",\n",
        "    #\"returnFaceAttributes\": \"age, gender headPose, smile, facialHair, glasses, emotion\",\n",
        "}\n",
        "\n",
        " \n",
        "\n",
        "#\n",
        "response = requests.post(face_api_url, params=params, headers=headers, json={\"url\": image_url})\n",
        "print(json.dumps(response.json()))"
      ],
      "metadata": {
        "colab": {
          "base_uri": "https://localhost:8080/"
        },
        "id": "Ifq8yoP791Lg",
        "outputId": "2f498fa7-80b5-40c9-e45e-c6a90a5199ee"
      },
      "execution_count": 7,
      "outputs": [
        {
          "output_type": "stream",
          "name": "stdout",
          "text": [
            "[{\"faceRectangle\": {\"top\": 159, \"left\": 118, \"width\": 94, \"height\": 94}}, {\"faceRectangle\": {\"top\": 111, \"left\": 492, \"width\": 90, \"height\": 90}}, {\"faceRectangle\": {\"top\": 153, \"left\": 18, \"width\": 84, \"height\": 84}}, {\"faceRectangle\": {\"top\": 166, \"left\": 386, \"width\": 81, \"height\": 81}}, {\"faceRectangle\": {\"top\": 158, \"left\": 235, \"width\": 76, \"height\": 76}}, {\"faceRectangle\": {\"top\": 163, \"left\": 323, \"width\": 68, \"height\": 68}}]\n"
          ]
        }
      ]
    },
    {
      "cell_type": "code",
      "source": [],
      "metadata": {
        "id": "EfHID8R591tO"
      },
      "execution_count": null,
      "outputs": []
    }
  ]
}